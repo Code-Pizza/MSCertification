{
 "cells": [
  {
   "cell_type": "markdown",
   "metadata": {},
   "source": [
    "# Introduction to dashboards\n",
    "Dashboards allow report consumers to create a single artifact of directed data that is personalized just for them.  \n",
    "Dashboards can be comprised of pinned visuals that are taken from different reports.  \n",
    "Where a Power BI report uses data from a single dataset, a Power BI dashboard can contain visuals from different datasets."
   ]
  },
  {
   "cell_type": "markdown",
   "metadata": {},
   "source": [
    "# Dashboards vs. reports\n",
    "When would you want to build a dashboard versus a report?\n",
    "- Dashboards can be created from multiple datasets or reports.\n",
    "- Dashboards do not have the Filter, Visualization, and Fields panes that are in Power BI Desktop, meaning that you can't add new filters and slicers, and you can't make edits.\n",
    "- Dashboards can only be a single page, whereas reports can be multiple pages.\n",
    "- You can't see the underlying dataset directly in a dashboard, while you can see the dataset in a report under the Data tab in Power BI Desktop.\n",
    "- Both dashboards and reports can be refreshed to show the latest data.\n",
    "\n",
    "Manage tiles on a dashboard - Tiles are the individual report elements, or snapshots, of your data that are then pinned to a dashboard.  \n",
    "Pin a tile to a dashboard  - The pinning process pulls visuals from your report and \"pins\" them to a dashboard for easy viewing. When you make changes to any of the visuals in the report, changes will be reflected on the dashboard.\n",
    "Pin a tile from a different report  \n"
   ]
  },
  {
   "cell_type": "markdown",
   "metadata": {},
   "source": [
    "# Configure data alerts\n",
    "Data alerts can be used to notify you or a user that a specific data point is above, below, or at a specific threshold that you can set. \n",
    "These alerts are features that are only available on Power BI service and they are available on such report elements as KPI visuals, gauges, and cards.\n",
    "After you have uploaded your reports to Power BI service and have pinned your chosen visuals to a dashboard, select the ellipsis (...) in the corner of the tile you want to set an alert for and then select Manage Alerts.  \n",
    "Add Alert Rule"
   ]
  },
  {
   "cell_type": "markdown",
   "metadata": {},
   "source": [
    "# Explore data by asking questions\n",
    "## Q&A feature\n",
    "The Q&A feature is a tool within Power BI Desktop that allows you to ask natural-language questions about the data.  \n",
    "To locate the Q&A feature, go to your dashboard in Power BI service. Along the top ribbon is the Ask a question about your data search box.\n",
    "\n",
    "3 Main Elements  \n",
    "- Question box - In this element, the user can enter their question about the data.  \n",
    "- Pre-populated suggestion tiles - Contains tiles with pre-populated suggestions for questions that the user can consider asking.  \n",
    "- Pin visual icon - This icon is located in the upper right of the visual, as shown in the following image."
   ]
  },
  {
   "cell_type": "markdown",
   "metadata": {},
   "source": [
    "# Add a dashboard theme\n",
    "Ensure that the same theme is applied to your dashboards to create a cohesive picture.  \n",
    "You could also apply a specific theme to reports and dashboards so that all report elements or tiles are uniform.  \n",
    "A variety of themes are available for use in Power BI service. Go to a dashboard, select the edit dropdown arrow, and then select Dashboard theme."
   ]
  },
  {
   "cell_type": "markdown",
   "metadata": {},
   "source": [
    "# Pin a live report page to a dashboard\n",
    "Through Power BI's innate functionality to pin live report pages to a dashboard, you can ensure that you aren't using old data and the visuals on your dashboards reflect changes live.  \n",
    "When you pin a visual or report it will be pinned to a dashboard live, meaning that changes will be immediately reflected on the dashboard."
   ]
  },
  {
   "cell_type": "markdown",
   "metadata": {},
   "source": [
    "# Configure a real-time dashboard"
   ]
  },
  {
   "cell_type": "markdown",
   "metadata": {},
   "source": [
    "## Visualize real-time data in Power BI\n",
    "To visualize streaming data, you need to create a new tile directly on an existing or new dashboard.  \n",
    "To complete this task, go to and open an existing dashboard and then select the Edit drop down arrow and then Add Tile, where you can select Custom Streaming Datasets under Real-Time Data.  \n",
    "\n",
    "After you have selected the new dataset, select Next, enter the details for your streaming dataset, and then add a new streaming dataset tile.  \n"
   ]
  },
  {
   "cell_type": "markdown",
   "metadata": {},
   "source": [
    "# Configure data classification"
   ]
  },
  {
   "cell_type": "markdown",
   "metadata": {},
   "source": [
    "## Set up data classification on dashboards\n",
    "Data classification helps the dashboard owner raise security awareness to viewers of a dashboard so that they know what level of security should be considered when viewing or sharing a dashboard.  \n",
    "Data classification does not enforce policies because data protection does.  \n",
    "Data classification is a feature that can be turned on and off in accordance with your organization's business needs. \n",
    "Once enabled the admin can create custom classifications to use on the dashboard."
   ]
  },
  {
   "cell_type": "markdown",
   "metadata": {},
   "source": [
    "# Set mobile view\n",
    "To navigate to mobile view in Power BI Desktop, select View on the ribbon and then select Mobile Layout, which will redirect you to the mobile view."
   ]
  }
 ],
 "metadata": {
  "language_info": {
   "name": "python"
  },
  "orig_nbformat": 4
 },
 "nbformat": 4,
 "nbformat_minor": 2
}
