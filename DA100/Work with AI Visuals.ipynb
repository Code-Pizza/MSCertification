{
 "cells": [
  {
   "cell_type": "markdown",
   "metadata": {},
   "source": [
    "# Use the Q&A visual\n",
    "The Q&A feature in Power BI lets you explore your data in your own words by allowing you to ask natural language questions and then providing you with answers to those questions.  \n",
    "\n",
    "When you have added the Q&A visual to your report, you can set up the underlying Q&A feature so that it improves in answering questions about your data  \n",
    "- add synonyms for common words to through the Teach Q&A feature in Q&A Setup"
   ]
  },
  {
   "cell_type": "markdown",
   "metadata": {},
   "source": [
    "# Use the Q&A feature to build visuals\n",
    "When Power BI answers a question, and you find the visual result to be engaging or helpful, you can add it as a standard visual to your report.\n"
   ]
  },
  {
   "cell_type": "markdown",
   "metadata": {},
   "source": [
    "# Find important factors with the Key influencers visual\n",
    "The Key influencers visual helps you understand the factors that are affecting a specific metric. It analyzes your data for you, ranks the factors that matter, and then displays those factors as key influencers. The visual also helps you to contrast the relative importance of these factors, meaning that you can build your visuals while understanding what factors impact those visuals and why the visuals appear the way that they do.\n",
    "\n",
    "Analyze  \n",
    "Explain By  \n",
    "\n",
    "Then use the what influences `field` to `do something`\n"
   ]
  },
  {
   "cell_type": "markdown",
   "metadata": {},
   "source": [
    "# Use the Decomposition Tree visual to break down a measure\n",
    "The Decomposition Tree visual automatically aggregates your data and lets you drill down into your dimensions so that you can view your data across multiple dimensions. Because Decomposition Tree is an AI visual, you can use it for improvised exploration and conducting root cause analysis.\n",
    "\n",
    "Analyze  - add the measure or aggregate that you want to analyze\n",
    "Explain by  - add the dimension(s) that you want to drill down into\n",
    "\n",
    "Will create AI splits that work by considering all available fields and determining which one to drill into to get the highest/lowest value of the measure that is being analyzed. You can use the results of these splits to find out where you should look next in the data. "
   ]
  }
 ],
 "metadata": {
  "language_info": {
   "name": "python"
  },
  "orig_nbformat": 4
 },
 "nbformat": 4,
 "nbformat_minor": 2
}
