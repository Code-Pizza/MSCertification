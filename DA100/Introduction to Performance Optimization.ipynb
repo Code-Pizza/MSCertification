{
 "cells": [
  {
   "cell_type": "markdown",
   "metadata": {},
   "source": [
    "# Performance Optimization\n",
    "\n",
    "The performance optimization process involves minimizing the size of the data model and making the most efficient use of the data in the model, which includes:  \n",
    "\n",
    "- Ensuring that the correct data types are used\n",
    "- Deleting unnecessary columns and rows.\n",
    "- Avoiding repeated values.\n",
    "- Replacing numeric columns with measures.\n",
    "- Reducing cardinalities.\n",
    "- Analyzing model metadata.\n",
    "- Summarizing data where possible."
   ]
  },
  {
   "cell_type": "markdown",
   "metadata": {},
   "source": [
    "# Review performance of measures, relationships, and visuals\n",
    "\n",
    " Performance analyzer in Power BI Desktop to help you find out how each of your report elements are performing when users interact with them.\n",
    "\n",
    "\n",
    "Start with a clear visual cache and a clear data engine cache.\n",
    "\n",
    "- Visual cache - When you load a visual, you can't clear this visual cache without closing Power BI Desktop and opening it again. To avoid any caching in play, you need to start your analysis with a clean visual cache.\n",
    "\n",
    "To ensure that you have a clear visual cache, add a blank page to your Power BI Desktop (.pbix) file and then, with that page selected, save and close the file. Reopen the Power BI Desktop (.pbix) file that you want to analyze. It will open on the blank page.\n",
    "\n",
    "Data engine cache - When a query is run, the results are cached, so the results of your analysis will be misleading. You need to clear the data cache before rerunning the visual.\n",
    "\n",
    "To clear the data cache, you can either restart Power BI Desktop or connect DAX Studio to the data model and then call Clear Cache.\n",
    "\n",
    "DAX query - The time it took for the visual to send the query, along with the time it took Analysis Services to return the results.\n",
    "\n",
    "Visual display - The time it took for the visual to render on the screen, including the time required to retrieve web images or geocoding.\n",
    "\n",
    "Other - The time it took the visual to prepare queries, wait for other visuals to complete, or perform other background processing tasks. If this category displays a long duration, the only real way to reduce this duration is to optimize DAX queries for other visuals, or reduce the number of visuals in the report."
   ]
  },
  {
   "cell_type": "markdown",
   "metadata": {},
   "source": [
    "# Column details\n",
    "\n",
    "Power Query Editor has the following three data preview options that you can use to analyze the metadata that is associated with your columns. You can find these options on the View tab, as illustrated in the following screenshot.\n",
    "\n",
    "- Column quality - Determines what percentage of items in the column are valid, have errors, or are empty. If the Valid percentage is not 100, you should investigate the reason, correct the errors, and populate empty values.\n",
    "\n",
    "- Column distribution - Identifies how many distinct items you have and how many are unique. This information is useful when you want to identify the cardinality of a column. You will investigate this further later in this module.\n",
    "\n",
    "- Column profile - Shows more statistics for the column and a chart showing the distribution of the unique items.\n",
    "\n"
   ]
  },
  {
   "cell_type": "markdown",
   "metadata": {},
   "source": [
    "# Use variables to improve performance and troubleshooting\n",
    " \n",
    " - Improved performance - Variables can make measures more efficient because they remove the need for Power BI to evaluate the same expression multiple times. You can achieve the same results in a query in about half the original processing time.\n",
    "\n",
    " - Improved readability - Variables have short, self-describing names and are used in place of an ambiguous, multi-worded expression. You might find it easier to read and understand the formulas when variables are used.\n",
    "\n",
    "- Simplified debugging - You can use variables to debug a formula and test expressions, which can be helpful during troubleshooting.\n",
    "\n",
    "- Reduced complexity\n",
    "- Use variables to troubleshoot multiple steps\n"
   ]
  },
  {
   "cell_type": "markdown",
   "metadata": {},
   "source": [
    "# Reduce cardinality\n",
    "Cardinality is a term that is used to describe the uniqueness of the values in a column. Cardinality is also used in the context of the relationships between two tables, where it describes the direction of the relationship.\n",
    "\n",
    "Identify cardinality levels in columns\n",
    "Previously, when you used Power Query Editor to analyze the metadata, the Column distribution option on the View tab displayed statistics on how many distinct and unique items were in each column in the data.\n",
    "\n",
    "Distinct values count - The total number of different values found in a given column.\n",
    "\n",
    "Unique values count - The total number of values that only appear once in a given column.\n",
    "\n",
    "A column that has a lot of repeated values in its range (distinct count is high) will have a low level of cardinality.  \n",
    "Conversely, a column that has a lot of unique values in its range (unique count is high) will have a high level of cardinality.\n",
    "\n",
    "## Reduce relationship cardinality\n"
   ]
  },
  {
   "cell_type": "markdown",
   "metadata": {},
   "source": [
    "the most effective technique to reduce a model size is to use a summary table from the data source.\n",
    "\n"
   ]
  },
  {
   "cell_type": "markdown",
   "metadata": {},
   "source": [
    "# Optimize DirectQuery models with table level storage\n",
    "\n",
    "the performance of your Power BI model will not only be impacted by the performance of the underlying data source, but also by other uncontrollable factors, such as:\n",
    "\n",
    "Network latency; faster networks return data quicker.\n",
    "\n",
    "The performance of the data source's server and how many other workloads are on that server. For example, consider the implications of a server refresh taking place while hundreds of people are using the same server for different reasons.\n",
    "\n",
    "Therefore, using DirectQuery poses a risk to the quality of your model's performance. To optimize performance in this situation, you need to have control over, or access to, the source database.\n"
   ]
  },
  {
   "cell_type": "markdown",
   "metadata": {},
   "source": [
    "# Benefits of DirectQuery):\n",
    "\n",
    "It is suitable in cases where data changes frequently and near real-time reporting is required.\n",
    "\n",
    "It can handle large data without the need to pre-aggregate.\n",
    "\n",
    "It applies data sovereignty restrictions to comply with legal requirements.\n",
    "\n",
    "It can be used with a multidimensional data source that contains measures such as SAP Business Warehouse (BW)."
   ]
  },
  {
   "cell_type": "markdown",
   "metadata": {},
   "source": [
    "# Behavior of DirectQuery connections\n",
    "- When you load the data, no data is imported into the Power BI Desktop, only the schema is loaded. \n",
    "- Changes to data not automatically loaded into the Power BI model\n",
    "- Publish does not include any data in the dataset. \n"
   ]
  },
  {
   "cell_type": "markdown",
   "metadata": {},
   "source": [
    "# Limitations of DirectQuery connections\n",
    "- Performance \n",
    "- Security \n",
    "- Data transformation\n",
    "- Modeling \n",
    "- Reporting "
   ]
  },
  {
   "cell_type": "markdown",
   "metadata": {},
   "source": [
    "# Optimize data in Power BI Desktop\n",
    "When you have optimized the data source as much as possible, you can take further action within Power BI Desktop by using Performance analyzer, where you can isolate queries to validate query plans."
   ]
  },
  {
   "cell_type": "markdown",
   "metadata": {},
   "source": [
    "# Customize the Query reduction options\n",
    "- Reduce number of queries sent - disable viual interactions if possible\n",
    "- Slicers - add an apply button \n",
    "- Filters - apply button for basic and filter pane filters\n",
    "   "
   ]
  },
  {
   "cell_type": "markdown",
   "metadata": {},
   "source": [
    "# Create and manage aggregations\n",
    "Why?\n",
    "- Large amounts of data\n",
    "- Slow refresh times\n",
    "- Reduce model size\n",
    "- Prevent unwanted model growth\n"
   ]
  },
  {
   "cell_type": "markdown",
   "metadata": {},
   "source": [
    "# Create aggregations\n",
    "- If you have access to the database, you could create a table with the aggregation and then import that table into Power BI Desktop.\n",
    "- If you have access to the database, you could create a view for the aggregation and then import that view into Power BI Desktop.\n",
    "- In Power BI Desktop, you can use Power Query Editor to create the aggregations step-by-step."
   ]
  }
 ],
 "metadata": {
  "interpreter": {
   "hash": "916dbcbb3f70747c44a77c7bcd40155683ae19c65e1c03b4aa3499c5328201f1"
  },
  "kernelspec": {
   "display_name": "Python 3.8.10 64-bit",
   "language": "python",
   "name": "python3"
  },
  "language_info": {
   "name": "python",
   "version": "3.8.10"
  },
  "orig_nbformat": 4
 },
 "nbformat": 4,
 "nbformat_minor": 2
}
