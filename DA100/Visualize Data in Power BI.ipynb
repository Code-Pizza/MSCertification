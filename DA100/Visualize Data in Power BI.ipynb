{
 "cells": [
  {
   "cell_type": "markdown",
   "metadata": {},
   "source": [
    "# Introduction to work with Power BI visuals\n",
    "\n",
    "- Add visualization items to reports.\n",
    "- Choose an effective visualization.\n",
    "- Format and configure visualizations.\n",
    "-Import a custom visual.\n",
    "- Add an R or Python visual.\n",
    "\n",
    "The types of visuals that are available include charts, maps, cards, a table, a matrix, and many more. "
   ]
  },
  {
   "cell_type": "markdown",
   "metadata": {},
   "source": [
    "# Choose an Effective Visualization  \n",
    "- Table: The table is a grid that contains related data in a logical series of rows and columns. The table supports two dimensions and it can also contain headers and a row for totals.\n",
    "- Matrix: Similar to the table visualization; however, it allows you to select one or more elements (rows, columns, values) in the matrix to cross-highlight other visuals on the report page.\n",
    "- Bar and Column Charts: Present specific data across different categories in a stacked or clustered format. \n",
    "- Line and area charts: Present trends over time.\n",
    "- Pie chart, donut chart, and Treemaps: Show the relationship of parts to the whole by dividing the data into segments. Good for visualizing data but not analyzing data.\n",
    "- A Treemap is ideal to visualize:\n",
    "    - Large amounts of hierarchical data when a bar chart can't effectively handle the large number of values.\n",
    "    - Proportions between each part and the whole.\n",
    "    - The distribution pattern of the measure across each level of categories in the hierarchy.\n",
    "    - Attributes, by using size and color coding.\n",
    "    - Spot patterns, outliers, most-important contributors, and exceptions.\n",
    "- Combo charts: A combination of a column chart and a line chart that can have one or two Y axes. The combination of the two charts into one lets you:\n",
    "    - Compare multiple measures with different value ranges.\n",
    "    - Illustrate the correlation between two measures in one visual.\n",
    "    - Identify whether one measure meets the target that is defined by another measure.\n",
    "    - Conserve space on your report page.\n",
    "- Card visualization: Displays a single value: a single data point. \n",
    "  - Ideal for visualizing important statistics that you want to track on your Power BI dashboard or report, such as total value, YTD sales, or year-over-year change.\n",
    "- Multi-row card visualization: Displays one or more data points, with one data point for each row.\n",
    "- Ideal for visualizing important statistics that you want to track on your Power BI dashboard or report, such as total value, YTD sales, or year-over-year change.\n",
    "- Funnel charts:\n",
    "  - When the data is sequential and moves through at least four stages.\n",
    "  - When the number of items in the first stage is expected to be greater than the number of items in the final stage.\n",
    "  - To calculate a potential outcome (revenue, sales, deals, and so on) by stages.\n",
    "  - To calculate and track conversion and retention rates.\n",
    "  - To reveal bottlenecks in a linear process.\n",
    "- Radial gauge chart: Has a circular arc and displays a single value that measures progress toward a goal or target.\n",
    "  - It is more effective to use a pair of gauges with a spark line so users can see the trend and know what to do about it.\n",
    "- Waterfall charts can be used to:\n",
    "  - Visualize changes over time or across different categories.\n",
    "  - Audit the major changes that contribute to the total value.\n",
    "  - Plot your organization's annual profit by showing various sources of revenue to help determine the total profit (or loss).\n",
    "  - Illustrate the beginning and ending headcount for your organization in a year.\n",
    "  - Visualize how much money you earn and spend each month and the running balance for your account.\n",
    "- Scatter charts also allow you to:\n",
    "  - Show relationships between two numerical values.\n",
    "  - Plot two groups of numbers as one series of x and y coordinates.\n",
    "  - Turn the horizontal axis into a logarithmic scale.\n",
    "  - Display worksheet data that includes pairs or grouped sets of values.\n",
    "  - Show patterns in large sets of data, for example, by showing linear or non-linear trends, clusters, and outliers.\n",
    "  - Compare large numbers of data points without regard to time. The more data that you include in a scatter chart, the better the comparisons that you can make.\n",
    "- Maps: Power BI integrates with Bing Maps to provide default map coordinates (a process called geocoding), so you can create maps.\n",
    "  - A basic map (bubble map) is used to associate categorical and quantitative information with spatial locations. This type of map visual displays precise geographical locations of data points on a map\n",
    "  - A fill map uses shading, tinting, or patterns to display how a value differs in proportion across a geographical region.\n",
    "  - Shape maps use colors to display relative comparisons of geographical regions.\n",
    "- Slicers are ideal to:\n",
    "  - Visualize commonly used or important filters on the report canvas for easier access.\n",
    "  - Simplify your ability to see the current filtered state without having to open a drop-down list.\n",
    "  - Filter by columns that are unneeded and hidden in the data tables.\n",
    "  - Create more focused reports by putting slicers next to important visuals.\n",
    "-  Q&A visualization consists of the following four core components:\n",
    "   -  The question box, where users enter their question and are shown suggestions to help them complete the question.\n",
    "   -  A pre-populated list of suggested questions.\n",
    "   -  An icon that users can select to convert the Q&A visual into a standard visual.\n",
    "   -  An icon that users can select to open Q&A tooling, which allows designers to configure the underlying natural language engine."
   ]
  },
  {
   "cell_type": "markdown",
   "metadata": {},
   "source": [
    "# Format and configure visualizations\n",
    "- Title - can be added removed or edited\n",
    "- Background - generally leave white unless you know what you are doing\n",
    "- Tooltip - added to give users context to a visualization\n",
    "  - Can display additional information like another measure or geographic information\n",
    "- Lots more"
   ]
  },
  {
   "cell_type": "markdown",
   "metadata": {},
   "source": [
    "# Import a Custom Visual\n",
    "In addition to the out-of-the-box visualizations in Power BI Desktop, hundreds of other developers have created a multitude of visuals for you to choose from.  \n",
    "The custom visuals that are available in Microsoft AppSource are created by Microsoft and Microsoft partners.  \n",
    "Certified status means that the visual meets the Microsoft Power BI team code requirements; "
   ]
  },
  {
   "cell_type": "markdown",
   "metadata": {},
   "source": [
    "# Add an R or Python visual\n",
    "\n",
    "## R\n",
    "Before you create the R visual, you must install R on your local computer so that Power BI Desktop can run R scripts.  \n",
    "Enable by: Select File > Options and settings > Options and then select R scripting in the Global options list.  \n",
    "Verify that your local R installation is specified in the Detected R home directories\n",
    "\n",
    "## Python\n",
    "No prerequisites exist for creating a Python visual, so you can start right away in Power BI Desktop by selecting the Python visual icon in the Visualizations pane. \n",
    "\n",
    "## Import an R or Python visual\n",
    "- To import an R or Python visual from AppSource, in the Visualizations pane, select the Get more visuals icon\n",
    "- Select Get more visuals. \n",
    "- Locate and select the R or Python visual that you want to import and then select Add."
   ]
  },
  {
   "cell_type": "markdown",
   "metadata": {},
   "source": [
    "# Work with key performance indicators\n",
    "\n",
    "Key performance indicators (KPIs): Excellent in tracking progress toward a specific goal over time\n",
    "To use a KPI, you need three pieces of information:\n",
    "- A unit of measurement that you want to track, for instance total sales.\n",
    "- A goal for the measurement so that you can compare your progress with that goal.\n",
    "- A time series, for instance daily, monthly, or yearly.\n",
    "\n",
    "When configuring the KPI visual:\n",
    "- Enter the unit of measurement that you are tracking in the Indicator prompt\n",
    "- Enter the goal under Target goals\n",
    "- Select the time series from the Trend axis drop-down list.\n",
    "- KPIs work best in a series, for instance, showing the daily, monthly, and yearly goals in the section of a Power BI report."
   ]
  }
 ],
 "metadata": {
  "interpreter": {
   "hash": "916dbcbb3f70747c44a77c7bcd40155683ae19c65e1c03b4aa3499c5328201f1"
  },
  "kernelspec": {
   "display_name": "Python 3.8.10 64-bit",
   "language": "python",
   "name": "python3"
  },
  "language_info": {
   "name": "python",
   "version": "3.8.10"
  },
  "orig_nbformat": 4
 },
 "nbformat": 4,
 "nbformat_minor": 2
}
