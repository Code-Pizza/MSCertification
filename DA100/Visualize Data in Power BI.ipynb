{
 "cells": [
  {
   "cell_type": "markdown",
   "metadata": {},
   "source": [
    "# Introduction to working with Power BI visuals\n",
    "\n",
    "- Add visualization items to reports.\n",
    "- Choose an effective visualization.\n",
    "- Format and configure visualizations.\n",
    "-Import a custom visual.\n",
    "- Add an R or Python visual.\n",
    "\n",
    "The types of visuals that are available include charts, maps, cards, a table, a matrix, and many more. "
   ]
  },
  {
   "cell_type": "markdown",
   "metadata": {},
   "source": [
    "# Choose an Effective Visualization  \n",
    "- Table: The table is a grid that contains related data in a logical series of rows and columns. The table supports two dimensions and it can also contain headers and a row for totals.\n",
    "- Matrix: Similar to the table visualization; however, it allows you to select one or more elements (rows, columns, values) in the matrix to cross-highlight other visuals on the report page.\n",
    "- Bar and Column Charts: Present specific data across different categories in a stacked or clustered format. \n",
    "- Line and area charts: Present trends over time.\n",
    "- Pie chart, donut chart, and Treemaps: Show the relationship of parts to the whole by dividing the data into segments. Good for visualizing data but not analyzing data.\n",
    "- A Treemap is ideal to visualize:\n",
    "    - Large amounts of hierarchical data when a bar chart can't effectively handle the large number of values.\n",
    "    - Proportions between each part and the whole.\n",
    "    - The distribution pattern of the measure across each level of categories in the hierarchy.\n",
    "    - Attributes, by using size and color coding.\n",
    "    - Spot patterns, outliers, most-important contributors, and exceptions.\n",
    "- Combo charts: A combination of a column chart and a line chart that can have one or two Y axes. The combination of the two charts into one lets you:\n",
    "    - Compare multiple measures with different value ranges.\n",
    "    - Illustrate the correlation between two measures in one visual.\n",
    "    - Identify whether one measure meets the target that is defined by another measure.\n",
    "    - Conserve space on your report page.\n",
    "- Card visualization: Displays a single value: a single data point. \n",
    "  - Ideal for visualizing important statistics that you want to track on your Power BI dashboard or report, such as total value, YTD sales, or year-over-year change.\n",
    "- Multi-row card visualization: Displays one or more data points, with one data point for each row.\n",
    "- Ideal for visualizing important statistics that you want to track on your Power BI dashboard or report, such as total value, YTD sales, or year-over-year change.\n",
    "- Funnel charts:\n",
    "  - When the data is sequential and moves through at least four stages.\n",
    "  - When the number of items in the first stage is expected to be greater than the number of items in the final stage.\n",
    "  - To calculate a potential outcome (revenue, sales, deals, and so on) by stages.\n",
    "  - To calculate and track conversion and retention rates.\n",
    "  - To reveal bottlenecks in a linear process.\n",
    "- Radial gauge chart: Has a circular arc and displays a single value that measures progress toward a goal or target.\n",
    "  - It is more effective to use a pair of gauges with a spark line so users can see the trend and know what to do about it.\n",
    "- Waterfall charts can be used to:\n",
    "  - Visualize changes over time or across different categories.\n",
    "  - Audit the major changes that contribute to the total value.\n",
    "  - Plot your organization's annual profit by showing various sources of revenue to help determine the total profit (or loss).\n",
    "  - Illustrate the beginning and ending headcount for your organization in a year.\n",
    "  - Visualize how much money you earn and spend each month and the running balance for your account.\n",
    "- Scatter charts also allow you to:\n",
    "  - Show relationships between two numerical values.\n",
    "  - Plot two groups of numbers as one series of x and y coordinates.\n",
    "  - Turn the horizontal axis into a logarithmic scale.\n",
    "  - Display worksheet data that includes pairs or grouped sets of values.\n",
    "  - Show patterns in large sets of data, for example, by showing linear or non-linear trends, clusters, and outliers.\n",
    "  - Compare large numbers of data points without regard to time. The more data that you include in a scatter chart, the better the comparisons that you can make.\n",
    "- Maps: Power BI integrates with Bing Maps to provide default map coordinates (a process called geocoding), so you can create maps.\n",
    "  - A basic map (bubble map) is used to associate categorical and quantitative information with spatial locations. This type of map visual displays precise geographical locations of data points on a map\n",
    "  - A fill map uses shading, tinting, or patterns to display how a value differs in proportion across a geographical region.\n",
    "  - Shape maps use colors to display relative comparisons of geographical regions.\n",
    "- Slicers are ideal to:\n",
    "  - Visualize commonly used or important filters on the report canvas for easier access.\n",
    "  - Simplify your ability to see the current filtered state without having to open a drop-down list.\n",
    "  - Filter by columns that are unneeded and hidden in the data tables.\n",
    "  - Create more focused reports by putting slicers next to important visuals.\n",
    "-  Q&A visualization consists of the following four core components:\n",
    "   -  The question box, where users enter their question and are shown suggestions to help them complete the question.\n",
    "   -  A pre-populated list of suggested questions.\n",
    "   -  An icon that users can select to convert the Q&A visual into a standard visual.\n",
    "   -  An icon that users can select to open Q&A tooling, which allows designers to configure the underlying natural language engine."
   ]
  },
  {
   "cell_type": "markdown",
   "metadata": {},
   "source": [
    "# Format and configure visualizations\n",
    "- Title - can be added removed or edited\n",
    "- Background - generally leave white unless you know what you are doing\n",
    "- Tooltip - added to give users context to a visualization\n",
    "  - Can display additional information like another measure or geographic information\n",
    "- Lots more"
   ]
  },
  {
   "cell_type": "markdown",
   "metadata": {},
   "source": [
    "# Import a Custom Visual\n",
    "In addition to the out-of-the-box visualizations in Power BI Desktop, hundreds of other developers have created a multitude of visuals for you to choose from.  \n",
    "The custom visuals that are available in Microsoft AppSource are created by Microsoft and Microsoft partners.  \n",
    "Certified status means that the visual meets the Microsoft Power BI team code requirements; "
   ]
  },
  {
   "cell_type": "markdown",
   "metadata": {},
   "source": [
    "# Add an R or Python visual"
   ]
  },
  {
   "cell_type": "markdown",
   "metadata": {},
   "source": [
    "## R\n",
    "Before you create the R visual, you must install R on your local computer so that Power BI Desktop can run R scripts.  \n",
    "Enable by: Select File > Options and settings > Options and then select R scripting in the Global options list.  \n",
    "Verify that your local R installation is specified in the Detected R home directories"
   ]
  },
  {
   "cell_type": "markdown",
   "metadata": {},
   "source": [
    "## Python\n",
    "No prerequisites exist for creating a Python visual, so you can start right away in Power BI Desktop by selecting the Python visual icon in the Visualizations pane. "
   ]
  },
  {
   "cell_type": "markdown",
   "metadata": {},
   "source": [
    "## Import an R or Python visual\n",
    "- To import an R or Python visual from AppSource, in the Visualizations pane, select the Get more visuals icon\n",
    "- Select Get more visuals. \n",
    "- Locate and select the R or Python visual that you want to import and then select Add."
   ]
  },
  {
   "cell_type": "markdown",
   "metadata": {},
   "source": [
    "# Work with key performance indicators\n",
    "\n",
    "Key performance indicators (KPIs): Excellent in tracking progress toward a specific goal over time\n",
    "To use a KPI, you need three pieces of information:\n",
    "- A unit of measurement that you want to track, for instance total sales.\n",
    "- A goal for the measurement so that you can compare your progress with that goal.\n",
    "- A time series, for instance daily, monthly, or yearly.\n",
    "\n",
    "When configuring the KPI visual:\n",
    "- Enter the unit of measurement that you are tracking in the Indicator prompt\n",
    "- Enter the goal under Target goals\n",
    "- Select the time series from the Trend axis drop-down list.\n",
    "- KPIs work best in a series, for instance, showing the daily, monthly, and yearly goals in the section of a Power BI report."
   ]
  },
  {
   "cell_type": "markdown",
   "metadata": {},
   "source": [
    "# Design a report layout\n",
    "The first step in designing an exceptional report layout is to choose the correct format.   \n",
    "Other key guidelines for creating a well-designed report layout include:\n",
    "- Draw a sketch of your report layout or draw multiple sketches, where you try out different ideas and then discuss these ideas with your team to help select the best layout design.\n",
    "- Focus on the most important information. Highlight key parts of your report with a bright color or summary icon so that it stands out and draws users to the most critical metrics.\n",
    "- Select the right background for the context of your report. \n",
    "  - A white background can make your report look clean and professional\n",
    "  - Whereas a black background can draw attention to colorful highlights on the report.\n",
    "  - Using images as a background can add visual interest."
   ]
  },
  {
   "cell_type": "markdown",
   "metadata": {},
   "source": [
    "## Parts of the layout:\n",
    "- Report page\n",
    "- Visuals: use a combination of visuals in your report\n",
    "  - Number: limit to effect visuals\n",
    "  - Position: generally important towards top left and less towards bottom right.\n",
    "    - Can use the align to distribute horizontally or vertically\n",
    "  - Size\n",
    "  - Visual Interactions\n",
    "  - Hierarchies\n",
    "- Report Accessibility\n",
    "  - Designing a report that offers an accessible experience will benefit all report users because \n",
    "  - It ensures that your report has an effective design and uses consistent formatting and color scheme or theme.\n",
    "- Accessibility Standards\n",
    "  - Perceivable - Information and user interface components must be presentable to users in ways that they can perceive.\n",
    "  - Operable - User interface components and navigation must be operable.\n",
    "  - Understandable - Information and the operation of the user interface must be understandable.\n",
    "- Accessibility features: The following accessibility features are built in to Power BI Desktop, so you don't need to do any configuration in this regard:\n",
    "  - Keyboard navigation\n",
    "  - Screen-reader compatibility\n",
    "  - High contrast colors view\n",
    "  - Focus mode\n",
    "  - Show data table\n",
    "- Accessibility features that you do need to configure include:\n",
    "  - Alt text\n",
    "  - Tab order\n",
    "  - Titles and labels\n",
    "  - Markers\n",
    "  - Themes\n",
    "- Alt text\n",
    "  - To accommodate report consumers who use screen readers, you can use alternative (alt) text to describe the appearance and function of objects (such as a visual, shape, and so on) on the report page.  \n",
    "  - Alt text helps you ensure that users understand what you are trying to communicate with those objects, even if they are unable to see them.\n",
    "- Tab order\n",
    "  - To help keyboard users navigate your report in an order that matches the way that visual users would, you can set the tab order.\n",
    "  - To set the tab order, select the View tab in the ribbon and then select Selection Pane.\n",
    "- Titles and labels\n",
    "  - To help all users,provide clear, concise, descriptive titles for visuals and report pages. \n",
    "  - Avoid using acronyms or jargon that new users or users who are external to your organization will not understand.\n",
    "- Markers\n",
    "  - It's best practice to avoid using color (including the feature's conditional formatting) as the only way of conveying information. \n",
    "  - Instead, you can use markers to convey different series.\n",
    "  - Available in:  line, area, and combo visuals, including scatter and bubble visuals\n",
    "- Themes\n",
    "  - To make your reports even more accessible, ensure that enough contrast exists between the text and background colors; the contrast ratio should be at least 4.5:1. \n",
    "  - Several tools are available for you to use to check your report colors, such as Color Contrast Analyzer, WebAIM, and Accessible Colors.\n",
    "  - Avoid these combinations: Green and red, Green and brown, Blue and purple, Green and blue, Light green and yellow, Blue and grey, Green and grey, Green and black"
   ]
  },
  {
   "cell_type": "markdown",
   "metadata": {},
   "source": [
    "# Buttons, Bookmarks, and Selections\n",
    "\n",
    "- Bookmarks - Capture the currently configured view of a report page so you can quickly return to that view later. \n",
    "  - Use bookmarks to keep track of your own progress when creating reports\n",
    "  - Use bookmarks to build a PowerPoint-like presentation that goes through the bookmarks in order, thereby telling a story with your report.\n",
    "- Buttons - Create a more interactive experience for the report users.\n",
    "  - With the addition of buttons that have assigned actions, your report behaves similar to an app, where users can hover, select, and interact more with the content.\n",
    "- Selections - Allow you to determine what items in the report are visible and what items are hidden. \n",
    "  - Selections are used alongside bookmarks and buttons."
   ]
  },
  {
   "cell_type": "markdown",
   "metadata": {},
   "source": [
    "## Add bookmarks\n",
    "When you add a bookmark, the following elements are saved with it:\n",
    "- Current page\n",
    "- Filters\n",
    "- Slicers, including slicer type (for example, drop-down or list) and slicer state\n",
    "- Visual selection state (such as cross-highlight filters)\n",
    "- Sort order\n",
    "- Drill location\n",
    "- Visibility of an object (by using the Selection pane)\n",
    "- Focus or Spotlight modes of any visible object"
   ]
  },
  {
   "cell_type": "markdown",
   "metadata": {},
   "source": [
    "## Add buttons\n",
    "You can use buttons for many reasons:\n",
    "- To switch between two visuals in a report\n",
    "- To drill down into the data in a visual\n",
    "- To move from one page in your report to another\n",
    "- Back - Returns the user to the previous page of the report. This option is useful for drillthrough pages or pages that are accessed from one main page.\n",
    "- Bookmark - Presents the report page that's associated with a bookmark that is defined for the current report.\n",
    "- Drill through - Brings the user to a drillthrough page that is filtered to their selection, without using bookmarks.\n",
    "- Page navigation - Brings the user to a different page within the report, also without using bookmarks, which is an effective way to create a navigation experience for your report users.\n",
    "- Q&A - Opens a Q&A Explorer window, where users can enter questions to quickly find the information that they are looking for and specify the type of visual that they want to see the information displayed in.\n",
    "- Web URL - Opens a website in a new browser window. For example, you might want to give users quick access to your organization's website or intranet from within a report."
   ]
  },
  {
   "cell_type": "markdown",
   "metadata": {},
   "source": [
    "# Design Report Navigation\n",
    "Report navigation is the way in which your report users move from one page in your report to the next, move from one visual to another, and return to where they started. "
   ]
  },
  {
   "cell_type": "markdown",
   "metadata": {},
   "source": [
    "## Add navigation buttons\n",
    "- Set the navigation destination\n",
    "- Other reasons for using this type of navigation include:\n",
    "  - To specify the logical path that your report users should take. In other words, you determine the order in which users view each page.\n",
    "  - To tell a data-driven story. For example, you could use it to give your employees a message that is backed up by the data. This method could be useful to help drive change, such as increase sales.\n",
    "  - To create a reporting portal where users can navigate to a set of reports."
   ]
  },
  {
   "cell_type": "markdown",
   "metadata": {},
   "source": [
    "## Conditional Navigation\n",
    "1. Start by creating a single-column table that contains the names of the navigation destinations.  \n",
    "1. In the table, ensure that the entered values match your report page names.  \n",
    "1. When you load the table, add it to the report page as a single-select slicer. \n",
    "2. Next, add a page navigation button. \n",
    "3. In the Actions section, ensure that None is set as the Destination\n",
    "4. Right-click the destination, and then select Conditional formatting.\n",
    "5. On the Destination window, select the name of the column that you created. Notice that, based on the user's selection, the button can navigate to different pages. \n",
    "6. Configure the conditional formatting to complete your navigation design."
   ]
  },
  {
   "cell_type": "markdown",
   "metadata": {},
   "source": [
    "## Basic Interactions\n",
    "View interactions\n",
    "When multiple visuals exist on the same report page, they all interact with each other. For that reason, you should become familiar with these interactions to see how your report changes."
   ]
  },
  {
   "cell_type": "markdown",
   "metadata": {},
   "source": [
    "## View interactions\n",
    "When multiple visuals exist on the same report page, they all interact with each other. For that reason, you should become familiar with these interactions to see how your report changes."
   ]
  },
  {
   "cell_type": "markdown",
   "metadata": {},
   "source": [
    "## Use hierarchies\n",
    "A hierarchy is a structure in which groups are ranked one above the other according to a specific status.   \n",
    "Power BI creates hierarchies for you automatically.   \n",
    "- Expand all down one level\n",
    "- Drill up\n",
    "- etc.."
   ]
  },
  {
   "cell_type": "markdown",
   "metadata": {},
   "source": [
    "## Advanced Interactions and Drillthroughs\n"
   ]
  },
  {
   "cell_type": "markdown",
   "metadata": {},
   "source": [
    "## Edit interactions\n",
    "You can use visual interaction controls to customize how the visualizations on your report page impact each other, in other words, filter and highlight each other.  \n",
    "To enable the visual interaction controls, select a visualization, go to the Format tab in the ribbon, and then select Edit interactions  \n",
    "Filter, Highlight, and/or None  combinations  \n",
    "the number of interactions between your visuals will impact the performance of your report."
   ]
  },
  {
   "cell_type": "markdown",
   "metadata": {},
   "source": [
    "## Drill through\n",
    "You can use the Drill through feature to create a page in your report that focuses on a specific entity, such as a product, category, or region.   \n",
    "You can then access this page when you drill through from the related visuals that are on other pages in your report.  \n",
    "From the Values section of the Visualizations pane, drag the field for which you want to enable drillthrough in the Drill through filters well.  \n",
    "Power BI Desktop automatically creates a Back button visual on the page for you. "
   ]
  },
  {
   "cell_type": "markdown",
   "metadata": {},
   "source": [
    "## Cross-report drillthrough\n",
    "The Cross-report drillthrough feature allows you to contextually jump from one report to another report in the same Power BI service workspace or app.  \n",
    "This feature allows you to connect two or more reports that have related content. \n",
    "You can also pass filter context along with that cross-report connection.  \n",
    "you can select a data point on a visual in one report, then drill through to related, detailed information that is in another report.  \n"
   ]
  },
  {
   "cell_type": "markdown",
   "metadata": {},
   "source": [
    "### Enable Cross-report Drillthrough\n",
    "- To enable Cross-report drillthrough, you first need to validate the data models for the source and target reports.   \n",
    "- The schemas in each report don't have to be the same, both data models must contain the fields that you want to pass.\n",
    "  - The names of those fields, and the names of the tables that they belong to, must be identical. \n",
    "  - The strings must match and are case-sensitive. \n",
    "- When you have validated your data models, you need to enable the Cross-report drillthrough feature in Power BI Desktop. \n",
    "  - Go to File > Options and settings > Options, then scroll down the Current File settings and select Report settings. \n",
    "  - In the Cross-report drillthrough section, select the check box for Allow visuals in this report to use drillthrough targets from other reports and then select OK.\n",
    "- Set up a target page for the cross-report drillthrough in the same way that you would set up a page for a drillthrough within a report in the previous section."
   ]
  },
  {
   "cell_type": "markdown",
   "metadata": {},
   "source": [
    "# Configure conditional formatting\n",
    "Conditional formatting in Power BI Desktop allows you to specify customized cell colors, including color gradients, that are based on field values.  \n",
    "Additionally, you can use conditional formatting to represent cell values with data bars, KPI icons, or active web links."
   ]
  },
  {
   "cell_type": "markdown",
   "metadata": {},
   "source": [
    "# Apply slicing, filtering, and sorting\n"
   ]
  },
  {
   "cell_type": "markdown",
   "metadata": {},
   "source": [
    "## Add a slicer\n",
    "A slicer is a type of filter that you can add to your report, so users can segment the data in the report by a specific value.  \n",
    "Slicers narrow the portion of the dataset that is shown in the other report visualizations.  \n",
    "\n",
    "You can use a slicer to:\n",
    "- Provide quicker access to commonly used or important filters.\n",
    "- Simplify a user's ability to see the current filtered state without having to open a drop-down list.\n",
    "- Filter by columns that are unneeded and hidden in the data tables.\n",
    "- Create more focused reports (by putting slicers next to important visuals).\n",
    "- Defer queries to the data model by using a drop-down slicer, particularly when you are using DirectQuery.\n",
    "- Slicers are not supported for input fields and drilldown functions.\n",
    "\n",
    "Slicer Options\n",
    "- Single select - This option is Off by default. It ensures that only one item can be selected at a time.\n",
    "- Multi-select with CTRL - This option is On by default. It allows you to select multiple items by pressing the Ctrl key.\n",
    "- Show \"Select all\" - This option is Off by default. If you turn on this option, a Select all check box is added to the slicer."
   ]
  },
  {
   "cell_type": "markdown",
   "metadata": {},
   "source": [
    "# Customize filters\n",
    "Customize the Filters pane in Power BI Desktop as follows:\n",
    "- Add and remove fields to filter on.\n",
    "- Change the filter state.\n",
    "- Format and customize the Filters pane so that it seems part of your report.\n",
    "- Define whether the Filters pane is open or collapsed by default when a consumer opens the report.\n",
    "- Hide the entire Filters pane or specific filters that you don't want report consumers to see.\n",
    "- Control and bookmark the visibility, open, and collapsed state of the Filters pane.\n",
    "- Lock filters that you don't want consumers to edit.\n",
    "\n",
    "When you expand the Filters pane, depending on the item in the report that you have selected, you will see the following sections:\n",
    "- Filters on this visual - Filters that apply to the selected visual and nothing else. This section only displays if you have a visual selected.\n",
    "- Filters on this page - Filters that apply to the whole page that you currently have open.\n",
    "- Filters on all pages - Filters that apply to all the pages in your report.\n",
    "- Drillthrough - Filters that apply to a single entity in a report.\n",
    "\n",
    "Sort data\n",
    "You can sort the data that is displayed in your visuals so it's displayed to your specifications.\n",
    "- Sort descending - Sorts the visual by the selected column in the order of greatest value to smallest value.\n",
    "- Sort ascending - Sorts the visual by the selected column in the order of smallest value to greatest value.\n",
    "- Sort by - Sorts the data by a specific column. Hover over this option to display the list of columns that you can select from."
   ]
  },
  {
   "cell_type": "markdown",
   "metadata": {},
   "source": [
    "# Publish and export reports"
   ]
  },
  {
   "cell_type": "markdown",
   "metadata": {},
   "source": [
    "## Publish reports\n",
    "When you publish a report, Power BI Desktop packages your report and data, including all your visualizations, queries, and custom measures, and then uploads them to Power BI service."
   ]
  },
  {
   "cell_type": "markdown",
   "metadata": {},
   "source": [
    "## Export reports\n",
    "Power BI allows you to export visual data, reports, and datasets. You can export to several different formats including CSV, Excel, and PDF."
   ]
  },
  {
   "cell_type": "markdown",
   "metadata": {},
   "source": [
    "# Comment on reports\n",
    "When you publish your report to Power BI web service, the consumers of your report can add comments to it.  \n",
    "Comments can be useful for personal comments or for starting a conversation about a report item with your colleagues.   \n",
    "\n",
    "To add or view comments on a report, open the report in Power BI web service. In the upper-right corner, select Comments.  \n",
    "In the Comments pane, you can view existing comments and write your own comments, and then select Post Comment.  "
   ]
  },
  {
   "cell_type": "markdown",
   "metadata": {},
   "source": [
    "# Tune report performance"
   ]
  },
  {
   "cell_type": "markdown",
   "metadata": {},
   "source": [
    "## Analyze performance\n",
    "- First step is to use the Performance analyzer tool within Power BI Desktop.\n",
    "  - Performance analyzer allows you to discover how each of your report elements, such as visuals and DAX formulas, are performing. \n",
    "  - Performance analyzer provides you with logs that measure (in time duration) how each of your report elements performs when users interact with them.\n",
    "  - Before you run Performance analyzer, ensure that you clear the visual cache and data engine cache; otherwise, the results will not be accurate.\n",
    "  - Also, you should set up the report so that it opens on a blank page."
   ]
  },
  {
   "cell_type": "markdown",
   "metadata": {},
   "source": [
    "## Tune performance\n",
    "The results of your analysis will identify areas for improvement and highlight items that you need to optimize.  \n",
    "\n",
    "If you identify visuals as the bottleneck that has caused poor performance, take the following measures to tune the report:\n",
    "- Reduce the number of visuals on the report page because fewer visuals means better performance.\n",
    "  - Consider other ways to provide additional details, such as drillthrough pages and report page tooltips.\n",
    "- Reduce the number of fields in each visual. \n",
    "  - The upper limit for visuals is 100 fields\n",
    "If you find that visuals are not causing the performance issues\n",
    "- Assess the DAX query results that are displayed in the Performance analyzer pane\n",
    "- "
   ]
  },
  {
   "cell_type": "markdown",
   "metadata": {},
   "source": [
    "# Optimize reports for mobile use\n",
    "To create a mobile-optimized version of your report, you can:\n",
    "- Design a mobile layout view, where you can drag and drop certain visuals onto a phone emulator canvas.\n",
    "- Use visuals and slicers that are suitable for use on small, mobile screens."
   ]
  },
  {
   "cell_type": "markdown",
   "metadata": {},
   "source": [
    "## Design a mobile report layout\n",
    "To design the mobile-optimized view of a report page, start by opening the mobile layout view for that page.  \n",
    "This selection will result in showing a scrollable canvas that is shaped like a phone and a Visualizations pane that lists all visuals on the original report page. "
   ]
  },
  {
   "cell_type": "markdown",
   "metadata": {},
   "source": [
    "## Configure visuals and slicers for use in mobile reports\n"
   ]
  }
 ],
 "metadata": {
  "interpreter": {
   "hash": "916dbcbb3f70747c44a77c7bcd40155683ae19c65e1c03b4aa3499c5328201f1"
  },
  "kernelspec": {
   "display_name": "Python 3.8.10 64-bit",
   "language": "python",
   "name": "python3"
  },
  "language_info": {
   "name": "python",
   "version": "3.8.10"
  },
  "orig_nbformat": 4
 },
 "nbformat": 4,
 "nbformat_minor": 2
}
