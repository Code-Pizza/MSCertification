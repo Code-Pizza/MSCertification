{
 "cells": [
  {
   "cell_type": "markdown",
   "metadata": {},
   "source": [
    "# Introduction to paginated reports\n",
    "Paginated reports give a pixel-perfect view of the data. Pixel perfect means that you have total control of how the report renders.  \n",
    "Paginated reports are ideal for creating sales invoices, receipts, purchase orders, and tabular data."
   ]
  },
  {
   "cell_type": "markdown",
   "metadata": {},
   "source": [
    "## When paginated reports are the right fit\n",
    "- Use paginated reports for operational reports with tables of details and optional headers and footers.  \n",
    "- Additionally, you can use paginated reports when you expect to print the report on paper or when you want an e-receipt, a purchase order, or an invoice.  \n",
    "- Paginated reports also render tabular data exceedingly well."
   ]
  },
  {
   "cell_type": "markdown",
   "metadata": {},
   "source": [
    "## Get data\n",
    "- The first step in creating a report is to get data from a data source.\n",
    "- Power BI paginated reports do not use Power Query when connecting to data sources.\n",
    "- Getting data in a Power BI paginated report does not involve data cleaning steps. \n",
    "  - Data is not stored in a Power BI paginated report dataset. \n",
    "  - When data is refreshed on the report, it is retrieved in an unaltered form from the data source, according to the query that was used to retrieve it.\n",
    "- After the data has been collected, the different data sources cannot be merged into a single data model. \n",
    "  - Each source must be used for a different purpose.\n",
    "\n",
    "Create and configure a data source or dataset "
   ]
  },
  {
   "cell_type": "markdown",
   "metadata": {},
   "source": [
    "## Best practices\n",
    "- What purpose is this report for?\n",
    "- Who is using the report?\n",
    "- How can I help people do a better job?\n",
    "- What is the most important information and how can I highlight it?\n",
    "- Is this report readable?\n",
    "- Can people change the elements that they need to if their questions change?\n",
    "- Do I have visuals that are distracting from the core message of the report?\n",
    "- Is this report staying focused in a single topic or only a few topics?\n",
    "- Am I providing all information that the user expects to see in the report?"
   ]
  }
 ],
 "metadata": {
  "interpreter": {
   "hash": "916dbcbb3f70747c44a77c7bcd40155683ae19c65e1c03b4aa3499c5328201f1"
  },
  "kernelspec": {
   "display_name": "Python 3.8.10 64-bit",
   "language": "python",
   "name": "python3"
  },
  "language_info": {
   "name": "python",
   "version": "3.8.10"
  },
  "orig_nbformat": 4
 },
 "nbformat": 4,
 "nbformat_minor": 2
}
