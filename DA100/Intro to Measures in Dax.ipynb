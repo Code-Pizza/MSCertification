{
 "cells": [
  {
   "cell_type": "markdown",
   "metadata": {},
   "source": [
    "Filter context matters\n"
   ]
  },
  {
   "cell_type": "markdown",
   "metadata": {},
   "source": [
    "# The Calculate Function\n",
    "The CALCULATE function in DAX is one of the most important functions that a data analyst can learn. The function name does not adequately describe all it is intended to do.  \n",
    "\n",
    "The CALCULATE function is your method of creating a DAX measure that will override certain portions of the context that are being used to express the correct result.  \n",
    "\n",
    "## USERELATIONSHIP\n",
    "Also allows the user to override default filter behaviors  \n",
    "`Sales by Ship Date = CALCULATE(Sum(Sales[TotalPrice]), USERELATIONSHIP(Sales[ShipDate],'Calendar'[Date]))`"
   ]
  },
  {
   "cell_type": "markdown",
   "metadata": {},
   "source": [
    "# Create semi-additive measures\n",
    "Use calculate to alter the filter to only add fields that should be included\n",
    "```\n",
    "Last Inventory Count =\n",
    "CALCULATE (\n",
    "    SUM ( 'Warehouse'[Inventory Count] ),\n",
    "    LASTDATE ( 'Date'[Date] ))\n",
    "```"
   ]
  },
  {
   "cell_type": "markdown",
   "metadata": {},
   "source": [
    "# Work with time intelligence\n",
    "```\n",
    "YTD Total Sales = TOTALYTD \n",
    "( \n",
    "    SUM('Sales OrderDetails'[Total Price]) \n",
    "    , Dates[Date]\n",
    ")\n",
    "```\n",
    "The YTD Total Sales measure uses a built-in DAX function called TOTALYTD. This function takes an argument for the type of calculation. You can use the SUM function to get the Total Price, as you've done throughout this module. The second argument that you want to operate over is the Dates field. You can use your Dates table and add this measure to your visual, and you'll get the running total result that you're looking for. You can use all functions with YTD, MTD, and QTD in a similar fashion.  \n",
    "\n",
    "```\n",
    "Total Sales Previous Month = CALCULATE\n",
    "(\n",
    "    sum('Sales OrderDetails'[Total Price])\n",
    "    , PREVIOUSMONTH(Dates[Date])\n",
    ")\n",
    "```\n",
    "This measure uses the CALCULATE function, indicating that you're overriding the context to evaluate this expression the way that you want to. You're summing Total Price, as you've been doing throughout this module. For the second argument, you're using PREVIOUSMONTH for the override, which tells Power BI that, no matter what month is the default, the system should override it to be the previous month."
   ]
  }
 ],
 "metadata": {
  "interpreter": {
   "hash": "916dbcbb3f70747c44a77c7bcd40155683ae19c65e1c03b4aa3499c5328201f1"
  },
  "kernelspec": {
   "display_name": "Python 3.8.10 64-bit",
   "language": "python",
   "name": "python3"
  },
  "language_info": {
   "name": "python",
   "version": "3.8.10"
  },
  "orig_nbformat": 4
 },
 "nbformat": 4,
 "nbformat_minor": 2
}
