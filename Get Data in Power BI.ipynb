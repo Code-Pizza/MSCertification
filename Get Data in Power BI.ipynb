{
 "cells": [
  {
   "cell_type": "markdown",
   "metadata": {},
   "source": [
    "# Get Data in Power BI\n",
    "\n",
    "## Introduction\n",
    "- Data resides in several different databases and files\n",
    "  - Data repositories are different from each other\n",
    "  - But all the data is related.\n",
    "## By the end of this module:\n",
    "\n",
    "- Identify and connect to a data source\n",
    "- Get data from a relational database, such as Microsoft SQL Server\n",
    "- Get data from a file, such as Microsoft Excel\n",
    "- Get data from applications\n",
    "- Get data from Azure Analysis Services\n",
    "- Select a storage mode\n",
    "- Fix performance issues\n",
    "- Resolve data import errors\n",
    "\n",
    "## Get data from files\n",
    "- One possible file format is a flat file\n",
    "  - A flat file is a type of file that has only one data table and every row of data is in the same structure\n",
    "  - The file does not contain hierarchies\n",
    "    - Comma-separated values (.csv) files\n",
    "    - Delimited text (.txt) files\n",
    "    - Fixed width files\n",
    "    - .xlsx\n",
    "\n",
    "### Flat file location\n",
    "- The first step is to determine which file location that you want to use to export and store your data.\n",
    "  - Local - import data from a local file into Power BI\n",
    "    - The file isn't moved into Power BI, a new dataset is created in Power BI\n",
    "    - Changes to the original file are not reflected in your Power BI dataset\n",
    "    - Use local data import for data that doesn't change.\n",
    "  - OneDrive for Business\n",
    "    - Power BI connects regularly to your file on OneDrive and automatically updates Power BI\n",
    "  - OneDrive - Personal\n",
    "    - Need to sign in with your personal OneDrive account, and select the Keep me signed in option\n",
    "  - SharePoint - Team Sites \n",
    "\n",
    "Home tab contains quick access data source options, such as Excel, next to the Get data button.  \n",
    "\n",
    "### Select the file data to import\n",
    "- Navigator window shows the data that is available in the data source\n",
    "  - Select a table or entity to preview its contents, to ensure that the correct data is loaded into the Power BI model\n",
    "- Select the check box(es) of the table(s) that you want to bring in to Power BI\n",
    "  - Activates the Load and Transform Data buttons\n",
    "  - Select the Load button to automatically load your data into the Power BI model\n",
    "  - Select the Transform Data button to launch the Power Query Editor\n",
    "    - Review and clean your data before loading it into the Power BI model\n",
    "\n",
    "### Change the source file\n",
    "- To change the location of a source file for a data source:\n",
    "  - Data source settings\n",
    "  - Query settings\n",
    "  - Advanced Editor \n",
    "Warning: When changing a file path ensure that you reconnect to the same file with the same file structure- structural changes in the source file, will break the reporting model"
   ]
  }
 ],
 "metadata": {
  "interpreter": {
   "hash": "916dbcbb3f70747c44a77c7bcd40155683ae19c65e1c03b4aa3499c5328201f1"
  },
  "kernelspec": {
   "display_name": "Python 3.8.10 64-bit",
   "name": "python3"
  },
  "language_info": {
   "name": "python",
   "version": "3.8.10"
  },
  "orig_nbformat": 4
 },
 "nbformat": 4,
 "nbformat_minor": 2
}
