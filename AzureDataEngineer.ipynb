{
 "cells": [
  {
   "cell_type": "markdown",
   "metadata": {},
   "source": [
    "# Azure for the Data Engineer"
   ]
  },
  {
   "cell_type": "markdown",
   "metadata": {},
   "source": [
    "# Understand the Evloving World of Data\n",
    "\n",
    "- Learn the key factors that are driving changes in data generation, roles, and technologies.\n",
    "- Compare the differences between on-premises data technologies and cloud data technologies.\n",
    "- Outline how the role of the data professional is changing in organizations.\n",
    "- Identify use cases that involve these changes."
   ]
  },
  {
   "cell_type": "markdown",
   "metadata": {},
   "source": [
    "## Data Abundance\n",
    "- view data on PCs, tablets, and mobile devices\n",
    "- Data forms include text, stream, audio, video, and metadata. Data can be structured, unstructured, or aggregated. \n",
    "- must maintain data systems that are accurate, highly secure, and constantly available. The systems must comply with applicable regulations \n",
    "-  "
   ]
  },
  {
   "cell_type": "markdown",
   "metadata": {},
   "source": [
    "## Cloud v On Premises Servers\n",
    "### OnPremise  \n",
    "- requires physical servers\n",
    "- individual CALs and OS\n",
    "- self-maintained\n",
    "- scale through adding more servers\n",
    "- higher uptime (Availability) increases cost and complexity\n",
    "- TCO\n",
    "  - Hardware\n",
    "  - Software licensing\n",
    "  - Labor (installation, upgrades, maintenance)\n",
    "  - Datacenter overhead (power, telecommunications, building, heating and cooling)\n",
    "### Cloud\n",
    "- no physical devices\n",
    "- no licensing or CALs\n",
    "- maintenance included\n",
    "- scale automatically\n",
    "- higher uptime (Availability) increases cost and complexity\n",
    "- multilingual support built in"
   ]
  },
  {
   "cell_type": "markdown",
   "metadata": {},
   "source": [
    "## Job Responsibilities\n",
    "\n",
    "### Data Engineer\n",
    "- Traditionally does an ETL DW  \n",
    "- Now focusing on ELT and DataLakes  \n",
    "- now provision server needs instead if implementing new servers"
   ]
  },
  {
   "cell_type": "markdown",
   "metadata": {},
   "source": [
    "## Use Cases for Cloud\n",
    "- Web\n",
    "- healthcare\n",
    "- IoT solutions"
   ]
  },
  {
   "cell_type": "markdown",
   "metadata": {},
   "source": [
    "## Section Questions\n",
    "- Which data processing framework will a data engineer use to ingest data onto cloud data platforms in Azure?\n",
    "  - ELT\n",
    "- The schema of what data type can be defined at query time?\n",
    "  - unstructured data\n",
    "- Duplicating customer content for redundancy and meeting service-level agreements (SLAs) in Azure meets which cloud technical requirement?\n",
    "  - High Availability"
   ]
  },
  {
   "cell_type": "markdown",
   "metadata": {},
   "source": [
    "# Survey the Services on the Azure Data Platform\n",
    "\n",
    "- Contrast structured data with nonstructured data.\n",
    "- Explore common Azure data platform technologies and identify when to use them.\n",
    "- List additional technologies that support the common data platform technologies."
   ]
  },
  {
   "cell_type": "markdown",
   "metadata": {},
   "source": [
    "## Explore Data Types\n",
    "### Structured data\n",
    "In relational database systems data structure is defined at design time. Data structure is designed in the form of tables.\n",
    "### Nonstructured data\n",
    "binary, audio, and image files  \n",
    "Nonstructured data is stored in nonrelational systems, commonly called unstructured or NoSQL systems. \n",
    "\n",
    "### 4 types of NoSQL databases:\n",
    "\n",
    "- Key-value store: Stores key-value pairs of data in a table structure.\n",
    "- Document database: Stores documents that are tagged with metadata to aid document searches\n",
    "- Graph database: Finds relationships between data points by using a structure that's composed of vertices and edges.\n",
    "- Column database: Stores data based on columns rather than rows. Columns can be defined at the query's runtime, allowing flexibility in the data that's returned performantly."
   ]
  },
  {
   "cell_type": "markdown",
   "metadata": {},
   "source": [
    "## Understand Data Storage in Azure Storage\n",
    "### 4 configuration options:\n",
    "\n",
    "Azure Blob: A scalable object store for text and binary data\n",
    "Azure Files: Managed file shares for cloud or on-premises deployments\n",
    "Azure Queue: A messaging store for reliable messaging between application components\n",
    "Azure Table: A NoSQL store for no-schema storage of structured data\n",
    "\n",
    "### When to use Blob storage\n",
    "- Provision a data store that will store but not query data\n",
    "- Cheapest option\n",
    "- Blob storage works well withunstructured data\n",
    "\n",
    "### Key Features\n",
    "- scalable and secure\n",
    "- durable\n",
    "- highly available\n",
    "- handles hardware maintenance, updates, and critical issues\n",
    "- provides REST APIs and SDKs \n",
    "- supports .NET, Node.js, Java, Python, PHP, Ruby, and Go\n",
    "- supports scripting in Azure PowerShell and the Azure CLI\n",
    "\n",
    "### Data Ingestion\n",
    "\n",
    "- Azure Data Factory\n",
    "- Azure Storage Explorer\n",
    "- Apache Sqoop\n",
    "- the AzCopy tool\n",
    "- PowerShell\n",
    "- Visual Studio\n",
    "- File Upload feature to import file sizes above 2 GB, use PowerShell or Visual Studio\n",
    "- AzCopy supports a maximum file size of 1 TB and automatically splits data files that exceed 200 GB\n",
    "\n",
    "### Data Security\n",
    "- Azure Storage encrypts all data that's written to it\n",
    "- Azure Storage securesdata by using keys or shared access signatures\n",
    "- Azure Resource Manager provides a permissions model that uses role-based access control (RBAC)"
   ]
  },
  {
   "cell_type": "markdown",
   "metadata": {},
   "source": [
    "## Understanding Azure Data Lake Storage\n",
    "\n",
    "- Hadoop-compatible data repository\n",
    "- Store any size or type of data\n",
    "- Available as Generation 1 (Gen1) \n",
    "\n",
    "### Gen2\n",
    "- Azure Blob storage\n",
    "- hierarchical file system\n",
    "- performance tuning\n",
    "- access data through \n",
    "  - Blob API\n",
    "  - Data Lake file API\n",
    "- Storage layer for Databricks, Hadoop, HDInsight\n",
    "\n",
    "\n",
    "### When Data Lake\n",
    "Data Lake Storage is designed to store massive amounts of data for big-data analytics.\n",
    "\n",
    "### DataLake Features\n",
    "\n",
    "- Unlimited scalability\n",
    "- Hadoop compatibility\n",
    "- Security support for both access control lists (ACLs)\n",
    "- POSIX compliance\n",
    "- An optimized Azure Blob File System (ABFS) driver that's designed for big-data analytics\n",
    "- Zone-redundant storage\n",
    "- Geo-redundant storage\n",
    "\n",
    "### DataLake Queries\n",
    "- Gen1, data engineers query data by using the U-SQL language  \n",
    "- Gen 2, use the Azure Blob Storage API or the Azure Data Lake System (ADLS) API.\n",
    "\n",
    "### DataLake Security\n",
    "- Azure Active Directory ACLs - Active Directory Security Groups\n",
    "- Role-based access control (RBAC) in Gen1 and Gen2\n",
    "  - Built-in security groups include ReadOnlyUsers, WriteAccessUsers, and FullAccessUsers\n",
    "- Data Lake Storage automatically encrypts data at rest,"
   ]
  },
  {
   "cell_type": "markdown",
   "metadata": {},
   "source": [
    "## Cosmos DB\n",
    "- globally distributed, multimodel database  \n",
    "- Deploy with API models\n",
    "  - SQL API\n",
    "  - MongoDB API (unstructured)\n",
    "  - Cassandra API (Wide columns)\n",
    "  - Gremlin API (Graph database)\n",
    "  - Table API\n",
    "\n",
    "### When Cosmos DB\n",
    "- Need a NoSQL database of the supported API model\n",
    "  - at planet scale\n",
    "  - with low latency performance\n",
    "- Currently, Azure Cosmos DB supports five-nines uptime (99.999 percent). It can support response times below 10 ms when it's provisioned correctly.\n",
    "- Consistency levels include strong, bounded staleness, session, consistent prefix, and eventual.\n",
    "\n",
    "### Ingest Data into Cosmos \n",
    "with Azure DataFactory\n",
    "\n",
    "### Queries\n",
    "- stored procedures\n",
    "- triggers\n",
    "- user-defined functions (UDFs)\n",
    "- JavaScript query API\n",
    "- other APIs\n",
    "  - Data Explorer component uses the graph visualization panel\n",
    "\n",
    "### Security\n",
    "- data encryption\n",
    "- IP firewall configurations\n",
    "- access from virtual networks\n",
    "-  Data is encrypted automatically\n",
    "-  User authentication is based on tokens\n",
    "-  Azure AD provides role-based security\n",
    "-  Security compliance certifications HIPAA, FedRAMP, SOX, and HITRUST"
   ]
  },
  {
   "cell_type": "markdown",
   "metadata": {},
   "source": [
    "## Understand Azure SQL Database\n",
    "- managed relational database service\n",
    "- supports structures such as relational data and unstructured formats\n",
    "  - spatial\n",
    "  - XML data\n",
    "- provides online transaction processing (OLTP) that can scale on demand\n",
    "- comprehensive security and availability\n",
    "\n",
    "### When Azure SQL Database\n",
    "- need to scale up and scale down OLTP systems on demand\n",
    "- take advantage of Azure security and availability features\n",
    "- flexible - provision in minutes\n",
    "- backed by Azure SLA\n",
    "\n",
    "### Key Features\n",
    "- predictable performance\n",
    "- minimal admin\n",
    "- dynamic scalability\n",
    "- optimization\n",
    "- high availability\n",
    "- advanced security\n",
    "\n",
    "### Ingesting and Processing Data\n",
    "- application integration from developer SDKs\n",
    "  - .NET\n",
    "  - Node.js\n",
    "  - Python\n",
    "  - Java\n",
    "- Transact-SQL (T-SQL) techniques \n",
    "- Azure Data Factory\n",
    "\n",
    "### Queries\n",
    "With T-SQL\n",
    "\n",
    "### Security\n",
    "- Advanced Threat Protection\n",
    "- SQL Database auditing\n",
    "- Data encryption\n",
    "- Azure Active Directory authentication\n",
    "- Multi-factor authentication\n",
    "- Compliance certification"
   ]
  },
  {
   "cell_type": "markdown",
   "metadata": {},
   "source": [
    "## Azure Synapse Analytics"
   ]
  }
 ],
 "metadata": {
  "interpreter": {
   "hash": "916dbcbb3f70747c44a77c7bcd40155683ae19c65e1c03b4aa3499c5328201f1"
  },
  "kernelspec": {
   "display_name": "Python 3.8.10 64-bit",
   "language": "python",
   "name": "python3"
  },
  "language_info": {
   "name": "python",
   "version": "3.8.10"
  },
  "orig_nbformat": 4
 },
 "nbformat": 4,
 "nbformat_minor": 2
}
